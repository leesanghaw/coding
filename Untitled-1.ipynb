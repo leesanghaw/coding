{
 "cells": [
  {
   "cell_type": "code",
   "execution_count": 1,
   "id": "e8708c64",
   "metadata": {},
   "outputs": [
    {
     "name": "stdout",
     "output_type": "stream",
     "text": [
      "[6, 10, 2]\n"
     ]
    }
   ],
   "source": [
    "numbers = [6,10,2]\n",
    "print(numbers)"
   ]
  },
  {
   "cell_type": "code",
   "execution_count": 10,
   "id": "a48ebdd5",
   "metadata": {},
   "outputs": [],
   "source": [
    "sorted_numbers = sorted(map(str, numbers), key = lambda x: x*3, reverse = True)"
   ]
  },
  {
   "cell_type": "code",
   "execution_count": 15,
   "id": "0f238bf6",
   "metadata": {},
   "outputs": [
    {
     "data": {
      "text/plain": [
       "'6210'"
      ]
     },
     "execution_count": 15,
     "metadata": {},
     "output_type": "execute_result"
    }
   ],
   "source": [
    "''.join(sorted_numbers)"
   ]
  },
  {
   "cell_type": "code",
   "execution_count": 27,
   "id": "6f0d9993",
   "metadata": {},
   "outputs": [
    {
     "data": {
      "text/plain": [
       "'6210'"
      ]
     },
     "execution_count": 27,
     "metadata": {},
     "output_type": "execute_result"
    }
   ],
   "source": [
    "def solution(a1):\n",
    "    sorted_numbers = sorted(map(str, a1), key = lambda x: x*3, reverse = True)\n",
    "    answer = ''.join(sorted_numbers)\n",
    "\n",
    "    if answer[0] == '0':\n",
    "        answer = '0'\n",
    "    \n",
    "    return answer\n",
    "\n",
    "\n",
    "numbers1 = [6,10,2]\n",
    "solution(numbers1)"
   ]
  },
  {
   "cell_type": "code",
   "execution_count": 44,
   "id": "46a60300",
   "metadata": {},
   "outputs": [
    {
     "name": "stdout",
     "output_type": "stream",
     "text": [
      "30 30\n"
     ]
    }
   ],
   "source": [
    "numbers = [int(input()) for _ in range(5)]\n",
    "print(sum(numbers)//5, sorted(numbers)[2])\n"
   ]
  },
  {
   "cell_type": "code",
   "execution_count": 71,
   "id": "b1f0af29",
   "metadata": {},
   "outputs": [
    {
     "data": {
      "text/plain": [
       "True"
      ]
     },
     "execution_count": 71,
     "metadata": {},
     "output_type": "execute_result"
    }
   ],
   "source": [
    "def solution(s):\n",
    "    a = []\n",
    "    for char in s:\n",
    "        if char == '(':\n",
    "            a.append(char)\n",
    "        elif char == ')':\n",
    "            if len(a) == 0:\n",
    "                return False\n",
    "            else:\n",
    "                a.pop()\n",
    "    return True\n",
    "        \n",
    "q = \"(()(\"\n",
    "solution(q)"
   ]
  },
  {
   "cell_type": "code",
   "execution_count": 74,
   "id": "e53338ea",
   "metadata": {},
   "outputs": [
    {
     "data": {
      "text/plain": [
       "False"
      ]
     },
     "execution_count": 74,
     "metadata": {},
     "output_type": "execute_result"
    }
   ],
   "source": [
    "def solution(s): # \n",
    "    a = []\n",
    "    for char in s:\n",
    "        if char == ')':\n",
    "            return False\n",
    "        elif char == '(':\n",
    "            a.append(char)\n",
    "            if char == ')':\n",
    "                a.pop()\n",
    "    return len(a) == 0\n",
    "        \n",
    "q = \"((()))\"\n",
    "solution(q)"
   ]
  },
  {
   "cell_type": "code",
   "execution_count": null,
   "id": "d15ae910",
   "metadata": {},
   "outputs": [],
   "source": [
    "def solution(s):\n",
    "    a = []\n",
    "    for char in s:\n",
    "        if char == '(':\n",
    "            a.append(char)\n",
    "        elif char == ')':\n",
    "            if len(a) == 0:\n",
    "                return False\n",
    "            else:\n",
    "                a.pop()\n",
    "    return len(a) == 0\n",
    "        \n",
    "q = \"(()(\"\n",
    "solution(q)"
   ]
  },
  {
   "cell_type": "code",
   "execution_count": 2,
   "id": "e803cb8d",
   "metadata": {},
   "outputs": [
    {
     "name": "stdout",
     "output_type": "stream",
     "text": [
      "98\n"
     ]
    }
   ],
   "source": [
    "# 09.27 백준 25305\n",
    "n, k = map(int, input().split())\n",
    "members = sorted(list(map(int, input().split())),reverse = True)\n",
    "\n",
    "print(members[k-1])"
   ]
  },
  {
   "cell_type": "code",
   "execution_count": 6,
   "id": "874e08e0",
   "metadata": {},
   "outputs": [
    {
     "name": "stdout",
     "output_type": "stream",
     "text": [
      "85\n"
     ]
    }
   ],
   "source": [
    "n,  k = map(int, input().split())\n",
    "members = sorted(list(map(int, input().split())),reverse = True)\n",
    "print(members[k-1])"
   ]
  },
  {
   "cell_type": "code",
   "execution_count": null,
   "id": "a09d8e37",
   "metadata": {},
   "outputs": [
    {
     "name": "stdout",
     "output_type": "stream",
     "text": [
      "4321\n"
     ]
    }
   ],
   "source": [
    "# 백준 1427\n",
    "n = input()\n",
    "k = []\n",
    "for i in n:\n",
    "    k.append(i)\n",
    "kk = sorted(k, reverse=True)\n",
    "print(int(''.join(kk)))"
   ]
  },
  {
   "cell_type": "code",
   "execution_count": null,
   "id": "65a79a0f",
   "metadata": {},
   "outputs": [
    {
     "name": "stdout",
     "output_type": "stream",
     "text": [
      "4321\n"
     ]
    }
   ],
   "source": [
    "# 백준 1427\n",
    "n = input()\n",
    "print(''.join(sorted(list(n), reverse= True)))"
   ]
  },
  {
   "cell_type": "code",
   "execution_count": null,
   "id": "784a0ae6",
   "metadata": {},
   "outputs": [
    {
     "name": "stdout",
     "output_type": "stream",
     "text": [
      "4321\n"
     ]
    }
   ],
   "source": [
    "# 백준 1427\n",
    "n = list(input())\n",
    "for i in range(len(n)):\n",
    "    for j in range(len(n)-1):\n",
    "        if n[j] < n[j+1]:\n",
    "            n[j], n[j+1] = n[j+1], n[j]\n",
    "\n",
    "print(int(''.join(n)))           "
   ]
  },
  {
   "cell_type": "code",
   "execution_count": null,
   "id": "3db5ac25",
   "metadata": {},
   "outputs": [
    {
     "data": {
      "text/plain": [
       "(0, 3)"
      ]
     },
     "execution_count": 21,
     "metadata": {},
     "output_type": "execute_result"
    }
   ],
   "source": [
    "# 이진탐색\n",
    "a = [1,2,3,4,5,6,7,8,9,10]\n",
    "b = 1\n",
    "\n",
    "def solution(a,b):\n",
    "    count = 0\n",
    "    lower_number = 0\n",
    "    upper_number = len(a) - 1\n",
    "\n",
    "    while lower_number <= upper_number:\n",
    "\n",
    "        count += 1\n",
    "\n",
    "        middle_number = (lower_number + upper_number) // 2\n",
    "\n",
    "        if b == a[middle_number]:\n",
    "            return middle_number, count\n",
    "        \n",
    "        elif b < a[middle_number]:\n",
    "            upper_number = middle_number - 1\n",
    "\n",
    "        elif b > a[middle_number]:\n",
    "            lower_number = middle_number + 1\n",
    "\n",
    "    return -1   \n",
    "solution(a,b)"
   ]
  },
  {
   "cell_type": "code",
   "execution_count": null,
   "id": "2109eedd",
   "metadata": {},
   "outputs": [],
   "source": []
  },
  {
   "cell_type": "code",
   "execution_count": null,
   "id": "31707f35",
   "metadata": {},
   "outputs": [],
   "source": []
  },
  {
   "cell_type": "code",
   "execution_count": null,
   "id": "84887c6b",
   "metadata": {},
   "outputs": [],
   "source": []
  },
  {
   "cell_type": "code",
   "execution_count": null,
   "id": "121dffc1",
   "metadata": {},
   "outputs": [],
   "source": []
  }
 ],
 "metadata": {
  "kernelspec": {
   "display_name": "Python 3",
   "language": "python",
   "name": "python3"
  },
  "language_info": {
   "codemirror_mode": {
    "name": "ipython",
    "version": 3
   },
   "file_extension": ".py",
   "mimetype": "text/x-python",
   "name": "python",
   "nbconvert_exporter": "python",
   "pygments_lexer": "ipython3",
   "version": "3.13.7"
  }
 },
 "nbformat": 4,
 "nbformat_minor": 5
}
