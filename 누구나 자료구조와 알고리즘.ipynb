{
 "cells": [
  {
   "cell_type": "code",
   "execution_count": 1,
   "id": "e8708c64",
   "metadata": {},
   "outputs": [
    {
     "name": "stdout",
     "output_type": "stream",
     "text": [
      "[6, 10, 2]\n"
     ]
    }
   ],
   "source": [
    "numbers = [6,10,2]\n",
    "print(numbers)"
   ]
  },
  {
   "cell_type": "code",
   "execution_count": 10,
   "id": "a48ebdd5",
   "metadata": {},
   "outputs": [],
   "source": [
    "sorted_numbers = sorted(map(str, numbers), key = lambda x: x*3, reverse = True)"
   ]
  },
  {
   "cell_type": "code",
   "execution_count": 15,
   "id": "0f238bf6",
   "metadata": {},
   "outputs": [
    {
     "data": {
      "text/plain": [
       "'6210'"
      ]
     },
     "execution_count": 15,
     "metadata": {},
     "output_type": "execute_result"
    }
   ],
   "source": [
    "''.join(sorted_numbers)"
   ]
  },
  {
   "cell_type": "code",
   "execution_count": 27,
   "id": "6f0d9993",
   "metadata": {},
   "outputs": [
    {
     "data": {
      "text/plain": [
       "'6210'"
      ]
     },
     "execution_count": 27,
     "metadata": {},
     "output_type": "execute_result"
    }
   ],
   "source": [
    "def solution(a1):\n",
    "    sorted_numbers = sorted(map(str, a1), key = lambda x: x*3, reverse = True)\n",
    "    answer = ''.join(sorted_numbers)\n",
    "\n",
    "    if answer[0] == '0':\n",
    "        answer = '0'\n",
    "    \n",
    "    return answer\n",
    "\n",
    "\n",
    "numbers1 = [6,10,2]\n",
    "solution(numbers1)"
   ]
  },
  {
   "cell_type": "code",
   "execution_count": 44,
   "id": "46a60300",
   "metadata": {},
   "outputs": [
    {
     "name": "stdout",
     "output_type": "stream",
     "text": [
      "30 30\n"
     ]
    }
   ],
   "source": [
    "numbers = [int(input()) for _ in range(5)]\n",
    "print(sum(numbers)//5, sorted(numbers)[2])\n"
   ]
  },
  {
   "cell_type": "code",
   "execution_count": 71,
   "id": "b1f0af29",
   "metadata": {},
   "outputs": [
    {
     "data": {
      "text/plain": [
       "True"
      ]
     },
     "execution_count": 71,
     "metadata": {},
     "output_type": "execute_result"
    }
   ],
   "source": [
    "def solution(s):\n",
    "    a = []\n",
    "    for char in s:\n",
    "        if char == '(':\n",
    "            a.append(char)\n",
    "        elif char == ')':\n",
    "            if len(a) == 0:\n",
    "                return False\n",
    "            else:\n",
    "                a.pop()\n",
    "    return True\n",
    "        \n",
    "q = \"(()(\"\n",
    "solution(q)"
   ]
  },
  {
   "cell_type": "code",
   "execution_count": 74,
   "id": "e53338ea",
   "metadata": {},
   "outputs": [
    {
     "data": {
      "text/plain": [
       "False"
      ]
     },
     "execution_count": 74,
     "metadata": {},
     "output_type": "execute_result"
    }
   ],
   "source": [
    "def solution(s): # \n",
    "    a = []\n",
    "    for char in s:\n",
    "        if char == ')':\n",
    "            return False\n",
    "        elif char == '(':\n",
    "            a.append(char)\n",
    "            if char == ')':\n",
    "                a.pop()\n",
    "    return len(a) == 0\n",
    "        \n",
    "q = \"((()))\"\n",
    "solution(q)"
   ]
  },
  {
   "cell_type": "code",
   "execution_count": null,
   "id": "d15ae910",
   "metadata": {},
   "outputs": [],
   "source": [
    "def solution(s):\n",
    "    a = []\n",
    "    for char in s:\n",
    "        if char == '(':\n",
    "            a.append(char)\n",
    "        elif char == ')':\n",
    "            if len(a) == 0:\n",
    "                return False\n",
    "            else:\n",
    "                a.pop()\n",
    "    return len(a) == 0\n",
    "        \n",
    "q = \"(()(\"\n",
    "solution(q)"
   ]
  },
  {
   "cell_type": "code",
   "execution_count": 2,
   "id": "e803cb8d",
   "metadata": {},
   "outputs": [
    {
     "name": "stdout",
     "output_type": "stream",
     "text": [
      "98\n"
     ]
    }
   ],
   "source": [
    "# 09.27 백준 25305\n",
    "n, k = map(int, input().split())\n",
    "members = sorted(list(map(int, input().split())),reverse = True)\n",
    "\n",
    "print(members[k-1])"
   ]
  },
  {
   "cell_type": "code",
   "execution_count": 6,
   "id": "874e08e0",
   "metadata": {},
   "outputs": [
    {
     "name": "stdout",
     "output_type": "stream",
     "text": [
      "85\n"
     ]
    }
   ],
   "source": [
    "n,  k = map(int, input().split())\n",
    "members = sorted(list(map(int, input().split())),reverse = True)\n",
    "print(members[k-1])"
   ]
  },
  {
   "cell_type": "code",
   "execution_count": null,
   "id": "a09d8e37",
   "metadata": {},
   "outputs": [
    {
     "name": "stdout",
     "output_type": "stream",
     "text": [
      "4321\n"
     ]
    }
   ],
   "source": [
    "# 백준 1427\n",
    "n = input()\n",
    "k = []\n",
    "for i in n:\n",
    "    k.append(i)\n",
    "kk = sorted(k, reverse=True)\n",
    "print(int(''.join(kk)))"
   ]
  },
  {
   "cell_type": "code",
   "execution_count": null,
   "id": "65a79a0f",
   "metadata": {},
   "outputs": [
    {
     "name": "stdout",
     "output_type": "stream",
     "text": [
      "4321\n"
     ]
    }
   ],
   "source": [
    "# 백준 1427\n",
    "n = input()\n",
    "print(''.join(sorted(list(n), reverse= True)))"
   ]
  },
  {
   "cell_type": "code",
   "execution_count": null,
   "id": "784a0ae6",
   "metadata": {},
   "outputs": [
    {
     "name": "stdout",
     "output_type": "stream",
     "text": [
      "4321\n"
     ]
    }
   ],
   "source": [
    "# 백준 1427 / 버블 정렬\n",
    "n = list(input())\n",
    "for i in range(len(n)):\n",
    "    for j in range(len(n)-1):\n",
    "        if n[j] < n[j+1]:\n",
    "            n[j], n[j+1] = n[j+1], n[j]\n",
    "\n",
    "print(int(''.join(n)))           "
   ]
  },
  {
   "cell_type": "code",
   "execution_count": 1,
   "id": "3db5ac25",
   "metadata": {},
   "outputs": [
    {
     "data": {
      "text/plain": [
       "(6, 4)"
      ]
     },
     "execution_count": 1,
     "metadata": {},
     "output_type": "execute_result"
    }
   ],
   "source": [
    "# 이진탐색\n",
    "a = [1,2,3,4,5,6,7,8,9,10]\n",
    "b = 7\n",
    "\n",
    "def solution(a,b):\n",
    "    count = 0\n",
    "    lower_number = 0\n",
    "    upper_number = len(a) - 1\n",
    "\n",
    "    while lower_number <= upper_number:\n",
    "\n",
    "        count += 1\n",
    "\n",
    "        middle_number = (lower_number + upper_number) // 2\n",
    "\n",
    "        if b == a[middle_number]:\n",
    "            return middle_number, count\n",
    "        \n",
    "        elif b < a[middle_number]:\n",
    "            upper_number = middle_number - 1\n",
    "\n",
    "        elif b > a[middle_number]:\n",
    "            lower_number = middle_number + 1\n",
    "\n",
    "    return -1   \n",
    "solution(a,b)"
   ]
  },
  {
   "cell_type": "code",
   "execution_count": null,
   "id": "2109eedd",
   "metadata": {},
   "outputs": [],
   "source": [
    "def is_prime(number):\n",
    " for i in range(2, number):\n",
    "    print(i)\n",
    "    if number % i == 0:\n",
    "        return False\n",
    " return True\n",
    "\n",
    "is_prime(7)"
   ]
  },
  {
   "cell_type": "code",
   "execution_count": 9,
   "id": "31707f35",
   "metadata": {},
   "outputs": [
    {
     "data": {
      "text/plain": [
       "'6번 찾아야 함'"
      ]
     },
     "execution_count": 9,
     "metadata": {},
     "output_type": "execute_result"
    }
   ],
   "source": [
    "def solution2(a,b):\n",
    "\n",
    "    low_number = 0\n",
    "\n",
    "    upper_number = len(a) - 1\n",
    "\n",
    "\n",
    "    while low_number <= upper_number:\n",
    "\n",
    "        middle_number = (low_number + upper_number) // 2\n",
    "\n",
    "        if b == a[middle_number]:\n",
    "            return f'{middle_number}번 찾아야 함'\n",
    "        \n",
    "        elif b < a[middle_number]:\n",
    "            upper_number = middle_number -1\n",
    "\n",
    "        elif b > a[middle_number]:\n",
    "            low_number = middle_number +1 \n",
    "    return -1\n",
    "\n",
    "\n",
    "a = [1,2,3,4,5,6,7,8,9,10]\n",
    "b= 7\n",
    "solution2(a,b)\n"
   ]
  },
  {
   "cell_type": "code",
   "execution_count": null,
   "id": "84887c6b",
   "metadata": {},
   "outputs": [
    {
     "data": {
      "text/plain": [
       "(6, 4)"
      ]
     },
     "execution_count": 4,
     "metadata": {},
     "output_type": "execute_result"
    }
   ],
   "source": [
    "# 이진탐색 / \n",
    "a = [1,2,3,4,5,6,7,8,9,10]\n",
    "b = 7\n",
    "\n",
    "def solution(a,b):\n",
    "    count = 0\n",
    "    lower_number = 0\n",
    "    upper_number = len(a) - 1\n",
    "\n",
    "    while lower_number <= upper_number:\n",
    "\n",
    "        count += 1\n",
    "\n",
    "        middle_number = (lower_number + upper_number) // 2\n",
    "\n",
    "        if b == a[middle_number]:\n",
    "            return middle_number, count\n",
    "        \n",
    "        elif b < a[middle_number]:\n",
    "            upper_number = middle_number - 1\n",
    "\n",
    "        elif b > a[middle_number]:\n",
    "            lower_number = middle_number + 1\n",
    "\n",
    "    return -1   \n",
    "solution(a,b)"
   ]
  },
  {
   "cell_type": "code",
   "execution_count": null,
   "id": "121dffc1",
   "metadata": {},
   "outputs": [
    {
     "data": {
      "text/plain": [
       "10"
      ]
     },
     "execution_count": 15,
     "metadata": {},
     "output_type": "execute_result"
    }
   ],
   "source": [
    "def grains(numbers):\n",
    "    chessnumber = 1\n",
    "    placedgrains = 1\n",
    "    \n",
    "    while placedgrains < numbers:\n",
    "        chessnumber += 1\n",
    "        placedgrains *=2\n",
    "\n",
    "    return chessnumber   \n",
    "\n",
    "#  O(log n)\n",
    "grains(512)  "
   ]
  },
  {
   "cell_type": "code",
   "execution_count": 6,
   "id": "2a96dcca",
   "metadata": {},
   "outputs": [
    {
     "name": "stdout",
     "output_type": "stream",
     "text": [
      "([22, 23, 41, 56, 71, 78, 98, 145], 7, 12)\n"
     ]
    }
   ],
   "source": [
    "# 버블정렬\n",
    "def bubble_sort(list):\n",
    "    unsorted_list_index = len(list)-1\n",
    "    sorted = False # 정렬 상태\n",
    "    count1 = 0 # pass-through 횟수\n",
    "    count2 = 0 # 비교 횟수\n",
    "    while not sorted:\n",
    "        count1 += 1\n",
    "        sorted = True\n",
    "        for i in range(unsorted_list_index):\n",
    "            if list[i] > list[i+1]:\n",
    "                list[i],list[i+1] = list[i+1],list[i]\n",
    "                count2 += 1 \n",
    "                sorted = False\n",
    "        unsorted_list_index -=1\n",
    "    return list, count1, count2\n",
    "\n",
    "print(bubble_sort([78,41,23,56,98,71,22,145]))\n"
   ]
  },
  {
   "cell_type": "code",
   "execution_count": null,
   "id": "3e15d99f",
   "metadata": {},
   "outputs": [
    {
     "data": {
      "text/plain": [
       "True"
      ]
     },
     "execution_count": 31,
     "metadata": {},
     "output_type": "execute_result"
    }
   ],
   "source": [
    "# 선형 해결법: 이차 문제\n",
    "def has_duplicate_value(array):\n",
    "    existing_numbers = {}\n",
    "    for num in array:\n",
    "        if existing_numbers.get(num) == 1: # 디셔너리의 해당 값의 value가 1이라면 이미 존재하는 것이니 중복 되었기 때문에 True를 반환\n",
    "            return True\n",
    "        else:\n",
    "            existing_numbers[num] = 1 # 없다면 디셔너리의 해당 num의 value에 1을 할당해라\n",
    "    return False\n",
    "\n",
    "has_duplicate_value([1,2,1])"
   ]
  },
  {
   "cell_type": "code",
   "execution_count": 5,
   "id": "0cb88d79",
   "metadata": {},
   "outputs": [],
   "source": [
    "# 5장: 선택 정렬\n",
    "\n",
    "def solution(list):\n",
    "    for i in range(len(list)-1):\n",
    "        low_index = i\n",
    "        for j in range(i + 1 , len(list)):\n",
    "            if list[j] < list[low_index]:\n",
    "                low_index = j\n",
    "        if low_index != i:\n",
    "            temp = list[i]\n",
    "            list[i] = list[low_index]\n",
    "            list[low_index] = temp\n",
    "    return list\n"
   ]
  },
  {
   "cell_type": "code",
   "execution_count": 6,
   "id": "6123ec31",
   "metadata": {},
   "outputs": [
    {
     "data": {
      "text/plain": [
       "[1, 2, 4, 5, 7]"
      ]
     },
     "execution_count": 6,
     "metadata": {},
     "output_type": "execute_result"
    }
   ],
   "source": [
    "solution([1,4,2,5,7])"
   ]
  },
  {
   "cell_type": "code",
   "execution_count": 8,
   "id": "c87eec0f",
   "metadata": {},
   "outputs": [],
   "source": [
    "# 선택 정렬\n",
    "def solution1(list):\n",
    "    for i in range(len(list)-1):\n",
    "        low_index = i\n",
    "        for j in range( i + 1, len(list)):\n",
    "            if list[j] < list[low_index]:\n",
    "                low_index = j\n",
    "        if low_index != i:\n",
    "            temp = list[i]\n",
    "            list[i] = list[low_index]\n",
    "            list[low_index] = temp\n",
    "\n",
    "    return list                    "
   ]
  },
  {
   "cell_type": "code",
   "execution_count": 9,
   "id": "fb0690c6",
   "metadata": {},
   "outputs": [
    {
     "data": {
      "text/plain": [
       "[2, 4, 4, 5, 7, 8]"
      ]
     },
     "execution_count": 9,
     "metadata": {},
     "output_type": "execute_result"
    }
   ],
   "source": [
    "solution1([4,2,4,5,8,7])"
   ]
  },
  {
   "cell_type": "code",
   "execution_count": null,
   "id": "600e39b3",
   "metadata": {},
   "outputs": [
    {
     "data": {
      "text/plain": [
       "1"
      ]
     },
     "execution_count": 66,
     "metadata": {},
     "output_type": "execute_result"
    }
   ],
   "source": [
    "# 프로그래머스: https://school.programmers.co.kr/learn/courses/30/lessons/12973 : 25/10/10\n",
    "\n",
    "def solution(s):\n",
    "    new_list = []\n",
    "    for i in s:\n",
    "        if len(new_list) > 0 and new_list[-1] == i:\n",
    "            new_list.pop()\n",
    "        else:\n",
    "            new_list.append(i)\n",
    "    if not new_list:\n",
    "        return 1\n",
    "    else:\n",
    "        return 0\n",
    "    \n",
    "a = 'baabaa'   \n",
    "solution(a)"
   ]
  },
  {
   "cell_type": "code",
   "execution_count": null,
   "id": "1fcacc5c",
   "metadata": {},
   "outputs": [
    {
     "data": {
      "text/plain": [
       "6765"
      ]
     },
     "execution_count": 75,
     "metadata": {},
     "output_type": "execute_result"
    }
   ],
   "source": [
    "# 프로그래머스: 피보나치 수열 - 재귀 (빅오 제곱)\n",
    "def solution(n):\n",
    "    if n <= 1:\n",
    "        return n\n",
    "    else:\n",
    "        return solution(n-1) + solution(n-2)\n",
    "    \n",
    "\n",
    "solution(20)"
   ]
  },
  {
   "cell_type": "code",
   "execution_count": null,
   "id": "a947592c",
   "metadata": {},
   "outputs": [
    {
     "data": {
      "text/plain": [
       "6765"
      ]
     },
     "execution_count": 80,
     "metadata": {},
     "output_type": "execute_result"
    }
   ],
   "source": [
    "# 프로그래머스: https://school.programmers.co.kr/learn/courses/30/lessons/12945 | 피보나치 수열 - 반복문 (시간복잡도 유리) 빅오 n\n",
    "def solution(n):\n",
    "    a,b  = 0,1\n",
    "    mod = 1234567\n",
    "\n",
    "    for _ in range(2,n+1):\n",
    "        a,b = b, (a+b) % mod\n",
    "    return b \n",
    "    \n",
    "\n",
    "solution(20)"
   ]
  },
  {
   "cell_type": "code",
   "execution_count": null,
   "id": "3f96f75e",
   "metadata": {},
   "outputs": [
    {
     "data": {
      "text/plain": [
       "4"
      ]
     },
     "execution_count": 112,
     "metadata": {},
     "output_type": "execute_result"
    }
   ],
   "source": [
    "# 프로그래머스:  https://school.programmers.co.kr/learn/courses/30/lessons/42885 | 시간복잡도 빅오 제곱\n",
    "# 리스트 직접 삭제: 구현 단순, 느림\n",
    "# 아이디어\n",
    "# 1. 가장 무거운 사람부터 태운다.\n",
    "# 2. 무거운 사람과 가벼운 사람이 같이 탈 수 있는 지 확인한다.\n",
    "# 3. 가능하면 같이, 안되면 무거운 사람만 태운다.\n",
    "# 4. 보트 개수는 그때그때 +1\n",
    "# 5. 방금 태운 사람을 명단에서 제거한다.\n",
    "# 6. 남는 사람이 없을 때까지 반복한다.\n",
    "\n",
    "p = [70,80,60,50]\n",
    "limit = 100\n",
    "\n",
    "def solution(p,limit):\n",
    "    p.sort()\n",
    "    count = 0\n",
    "\n",
    "    while len(p) > 0:\n",
    "        max_p = p[-1]\n",
    "        low_p = p[0]\n",
    "        if len(p) == 1:\n",
    "            p.pop()\n",
    "            count += 1\n",
    "        else:\n",
    "            if max_p + low_p <= limit:\n",
    "                del p[-1]; del p[0]\n",
    "                count += 1\n",
    "            else:\n",
    "                del p[-1]\n",
    "                count += 1\n",
    "    return count\n",
    "\n",
    "solution(p,limit)"
   ]
  },
  {
   "cell_type": "code",
   "execution_count": null,
   "id": "f832d4db",
   "metadata": {},
   "outputs": [
    {
     "data": {
      "text/plain": [
       "4"
      ]
     },
     "execution_count": 109,
     "metadata": {},
     "output_type": "execute_result"
    }
   ],
   "source": [
    "# 프로그래머스:  https://school.programmers.co.kr/learn/courses/30/lessons/42885 | 시간복잡도 빅오 n log n\n",
    "# deque 사용\n",
    "p = [70,80,60,50]\n",
    "limit = 100\n",
    "\n",
    "from collections import deque\n",
    "\n",
    "def solution(p,limit):\n",
    "    p.sort()\n",
    "    p = deque(p)\n",
    "    count = 0\n",
    "\n",
    "    while len(p) > 0:\n",
    "        max_p = p[-1]\n",
    "        low_p = p[0]\n",
    "        if len(p) == 1:\n",
    "            p.pop()\n",
    "            count += 1\n",
    "        else:\n",
    "            if max_p + low_p <= limit:\n",
    "                p.popleft()\n",
    "                p.pop()\n",
    "                count += 1\n",
    "            else:\n",
    "                p.pop()\n",
    "                count += 1\n",
    "    return count \n",
    "\n",
    "\n",
    "solution(p,limit)"
   ]
  },
  {
   "cell_type": "code",
   "execution_count": 111,
   "id": "6d8a4d54",
   "metadata": {},
   "outputs": [
    {
     "data": {
      "text/plain": [
       "4"
      ]
     },
     "execution_count": 111,
     "metadata": {},
     "output_type": "execute_result"
    }
   ],
   "source": [
    "# 프로그래머스:  https://school.programmers.co.kr/learn/courses/30/lessons/42885 | 시간복잡도 빅오 n log n\n",
    "# 투 포인터 사용\n",
    "\n",
    "p = [70,80,60,50]\n",
    "limit = 100\n",
    "\n",
    "\n",
    "def solution(p,limit):\n",
    "    p.sort()\n",
    "    i, j = 0 , len(p) - 1\n",
    "    count = 0\n",
    "    while i <= j:\n",
    "        if p[i] + p[j] < limit:\n",
    "            i += 1; j -= 1\n",
    "            count += 1       \n",
    "        else:\n",
    "            j -= 1\n",
    "            count += 1\n",
    "    return count\n",
    "\n",
    "\n",
    "\n",
    "solution(p,limit)"
   ]
  },
  {
   "cell_type": "code",
   "execution_count": null,
   "id": "3a4d4ed1",
   "metadata": {},
   "outputs": [],
   "source": [
    "# 프로그래머스\n",
    "from collections import Counter\n",
    "\n",
    "def solution(k, tangerine):\n",
    "    counts = sorted(Counter(tangerine).values(), reverse=True)\n",
    "    picked = kinds = 0\n",
    "    for c in counts:\n",
    "        picked += c\n",
    "        kinds += 1\n",
    "        if picked >= k:\n",
    "            return kinds"
   ]
  },
  {
   "cell_type": "code",
   "execution_count": 150,
   "id": "ceac77c4",
   "metadata": {},
   "outputs": [
    {
     "data": {
      "text/plain": [
       "3"
      ]
     },
     "execution_count": 150,
     "metadata": {},
     "output_type": "execute_result"
    }
   ],
   "source": [
    "# 프로그래머스\n",
    "def solution(k,tan):\n",
    "    picked = 0\n",
    "    kinds = 0\n",
    "    freq = {}\n",
    "    for x in tan:\n",
    "        if x in freq:\n",
    "            freq[x] += 1\n",
    "        else:\n",
    "            freq[x] = 1\n",
    "    \n",
    "    counts = sorted(freq.values(), reverse = True)\n",
    "\n",
    "    for i in counts:\n",
    "        picked += i\n",
    "        kinds += 1\n",
    "        if picked >= k:\n",
    "            return kinds\n",
    "        \n",
    "\n",
    "solution(6,[1, 3, 2, 5, 4, 5, 2, 3])\n"
   ]
  },
  {
   "cell_type": "code",
   "execution_count": 7,
   "id": "b603afc0",
   "metadata": {},
   "outputs": [
    {
     "data": {
      "text/plain": [
       "2"
      ]
     },
     "execution_count": 7,
     "metadata": {},
     "output_type": "execute_result"
    }
   ],
   "source": [
    "# 프로그래머스: https://school.programmers.co.kr/learn/courses/30/lessons/12980\n",
    "\n",
    "def solution(n):\n",
    "    list_a = []\n",
    "    while n > 0 :\n",
    "        list_a.append(n%2)\n",
    "        n = n // 2\n",
    "    return list_a.count(1)\n",
    "\n",
    "solution(5)"
   ]
  },
  {
   "cell_type": "code",
   "execution_count": 8,
   "id": "b887c842",
   "metadata": {},
   "outputs": [],
   "source": [
    "# 프로그래머스: https://school.programmers.co.kr/learn/courses/30/lessons/12980\n",
    "\n",
    "def solution(n):\n",
    "    list(bin(5)).count('1')\n",
    "\n",
    "solution(5)"
   ]
  },
  {
   "cell_type": "code",
   "execution_count": null,
   "id": "12c94b50",
   "metadata": {},
   "outputs": [],
   "source": [
    "def solution(arr):\n",
    "    ls = []\n",
    "    for i in arr:\n",
    "        if i > 2 and i % 2 == 0: \n",
    "            ls.append(i//2)\n",
    "        else: \n",
    "            ls.append(i)\n",
    "        \n",
    "    lcm = 1\n",
    "    for j in ls:\n",
    "        lcm *= j\n",
    "\n",
    "    return lcm\n"
   ]
  },
  {
   "cell_type": "code",
   "execution_count": 16,
   "id": "e03e071a",
   "metadata": {},
   "outputs": [
    {
     "data": {
      "text/plain": [
       "168"
      ]
     },
     "execution_count": 16,
     "metadata": {},
     "output_type": "execute_result"
    }
   ],
   "source": [
    "solution([2,6,8,14])"
   ]
  },
  {
   "cell_type": "code",
   "execution_count": null,
   "id": "a1200648",
   "metadata": {},
   "outputs": [
    {
     "data": {
      "text/plain": [
       "10"
      ]
     },
     "execution_count": 17,
     "metadata": {},
     "output_type": "execute_result"
    }
   ],
   "source": [
    "# 프로그래머스: https://school.programmers.co.kr/learn/courses/30/lessons/82612\n",
    "def solution(price, money, count):\n",
    "    sum = 0 \n",
    "    for i in range(1,count+1):\n",
    "        sum += price * i\n",
    "    remain_money = sum - money\n",
    "\n",
    "    if remain_money > 0:\n",
    "        return remain_money\n",
    "    else:\n",
    "        return 0 \n",
    "    \n",
    "solution(3,20,4)"
   ]
  },
  {
   "cell_type": "code",
   "execution_count": 23,
   "id": "72cdc668",
   "metadata": {},
   "outputs": [
    {
     "data": {
      "text/plain": [
       "[1, 3, 4, 5, 8]"
      ]
     },
     "execution_count": 23,
     "metadata": {},
     "output_type": "execute_result"
    }
   ],
   "source": [
    "# 4장 복습\n",
    "def sol(list):\n",
    "    unsorted_index = len(list) - 1\n",
    "    sorted = False\n",
    "\n",
    "    while sorted == False:\n",
    "        sorted = True\n",
    "        for i in range(unsorted_index):\n",
    "            if list[i] > list[i+1]:\n",
    "                list[i], list[i+1] = list[i+1], list[i]\n",
    "                sorted = False\n",
    "        unsorted_index -=1\n",
    "    return list\n",
    "\n",
    "sol([3,4,1,8,5])"
   ]
  },
  {
   "cell_type": "code",
   "execution_count": 29,
   "id": "c603c318",
   "metadata": {},
   "outputs": [
    {
     "data": {
      "text/plain": [
       "False"
      ]
     },
     "execution_count": 29,
     "metadata": {},
     "output_type": "execute_result"
    }
   ],
   "source": [
    "def sol1(list):\n",
    "    for i in range(len(list)):\n",
    "        for j in range(len(list)):\n",
    "            if i != j and list[i] == list[j]:\n",
    "                return True\n",
    "    return False\n",
    "\n",
    "sol1([1,2,3,4,5])        "
   ]
  },
  {
   "cell_type": "code",
   "execution_count": 48,
   "id": "98a0d8ea",
   "metadata": {},
   "outputs": [
    {
     "data": {
      "text/plain": [
       "99"
      ]
     },
     "execution_count": 48,
     "metadata": {},
     "output_type": "execute_result"
    }
   ],
   "source": [
    "# 4장 연습문제\n",
    "def sol(arr):\n",
    "    great = arr[0]\n",
    "    for i in range(len(arr)-1):\n",
    "        if arr[i] > great:\n",
    "            great = arr[i]\n",
    "    return great\n",
    "sol([11,77,33,48,99,22])"
   ]
  },
  {
   "cell_type": "code",
   "execution_count": 45,
   "id": "be8e420e",
   "metadata": {},
   "outputs": [
    {
     "data": {
      "text/plain": [
       "77"
      ]
     },
     "execution_count": 45,
     "metadata": {},
     "output_type": "execute_result"
    }
   ],
   "source": [
    "# 4장 연습문제\n",
    "def sol(arr):\n",
    "    great = arr[0]\n",
    "\n",
    "    for i in arr:\n",
    "        if i > great:\n",
    "            great = i\n",
    "    return great\n",
    "\n",
    "sol([11,77,33,48,22])"
   ]
  },
  {
   "cell_type": "code",
   "execution_count": 56,
   "id": "2422c1b6",
   "metadata": {},
   "outputs": [
    {
     "data": {
      "text/plain": [
       "[5, 7, 12, 18, 24, 31, 37, 42, 54, 60, 66, 73, 85, 91, 99]"
      ]
     },
     "execution_count": 56,
     "metadata": {},
     "output_type": "execute_result"
    }
   ],
   "source": [
    "# 5장 선택 정렬\n",
    "\n",
    "def sol(arr):\n",
    "    for i in range(len(arr)-1):\n",
    "        low_index = i\n",
    "        for j in range(i+1,len(arr)):\n",
    "            if arr[j] < arr[low_index]:\n",
    "                low_index = j\n",
    "        arr[i], arr[low_index] = arr[low_index], arr[i]\n",
    "    return arr        \n",
    "\n",
    "\n",
    "sol([73, 5, 42, 91, 18, 60, 37, 85, 24, 99, 7, 12, 66, 31, 54])"
   ]
  },
  {
   "cell_type": "code",
   "execution_count": 58,
   "id": "ca14d343",
   "metadata": {},
   "outputs": [
    {
     "data": {
      "text/plain": [
       "[5, 7, 12, 18, 24, 31, 37, 42, 54, 60, 66, 73, 85, 91, 99]"
      ]
     },
     "execution_count": 58,
     "metadata": {},
     "output_type": "execute_result"
    }
   ],
   "source": [
    "# 선택 정렬\n",
    "def solution1(list):\n",
    "    for i in range(len(list)-1):\n",
    "        low_index = i\n",
    "        for j in range( i + 1, len(list)):\n",
    "            if list[j] < list[low_index]:\n",
    "                low_index = j\n",
    "        if low_index != i:\n",
    "            temp = list[i]\n",
    "            list[i] = list[low_index]\n",
    "            list[low_index] = temp\n",
    "\n",
    "    return list                    \n",
    "\n",
    "# 5장 선택 정렬\n",
    "\n",
    "def sol(arr):\n",
    "    for i in range(len(arr)-1):\n",
    "        low_index = i\n",
    "        for j in range(i+1,len(arr)):\n",
    "            if arr[j] < arr[low_index]:\n",
    "                low_index = j\n",
    "        arr[i], arr[low_index] = arr[low_index], arr[i]\n",
    "    return arr        \n",
    "\n",
    "sol([73, 5, 42, 91, 18, 60, 37, 85, 24, 99, 7, 12, 66, 31, 54])\n"
   ]
  },
  {
   "cell_type": "code",
   "execution_count": 59,
   "id": "2b9f6716",
   "metadata": {},
   "outputs": [
    {
     "data": {
      "text/plain": [
       "[5, 7, 12, 18, 24, 31, 37, 42, 54, 60, 66, 73, 85, 91, 99]"
      ]
     },
     "execution_count": 59,
     "metadata": {},
     "output_type": "execute_result"
    }
   ],
   "source": [
    "solution1([73, 5, 42, 91, 18, 60, 37, 85, 24, 99, 7, 12, 66, 31, 54])"
   ]
  },
  {
   "cell_type": "code",
   "execution_count": 70,
   "id": "ee14dd7f",
   "metadata": {},
   "outputs": [
    {
     "data": {
      "text/plain": [
       "[5, 12, 13, 156, 32, 1, 32, 13, 1, 13, 4, 99]"
      ]
     },
     "execution_count": 70,
     "metadata": {},
     "output_type": "execute_result"
    }
   ],
   "source": [
    "# 6장 예제\n",
    "def sol(arr1,arr2):\n",
    "    result = []\n",
    "    for i in range(len(arr1)):\n",
    "        for j in range(len(arr2)):\n",
    "            if arr1[i] == arr2[j]:\n",
    "                result.append(arr1[i])\n",
    "                break\n",
    "    return result\n",
    "\n",
    "\n",
    "a = [5, 7, 12, 18, 24, 484,1351,54,874,97,96,413,13,156,48,74,651,32,1,5684,6851,32,13,1,6854,53,13,514,564,54,684,86,465,31,321,568,48,4,31, 37, 42, 54, 60, 66, 73, 85, 91, 99]\n",
    "b = [156,8,12,6,47,15,8,8,65,9,1,32,6,498,5,1,65,9,4,13,58,47,89,499,9,494,4,99,49]\n",
    "sol(a,b) "
   ]
  },
  {
   "cell_type": "code",
   "execution_count": 71,
   "id": "eaef1128",
   "metadata": {},
   "outputs": [
    {
     "data": {
      "text/plain": [
       "[5, 12, 13, 156, 32, 1, 1, 32, 13, 1, 1, 13, 4, 4, 99]"
      ]
     },
     "execution_count": 71,
     "metadata": {},
     "output_type": "execute_result"
    }
   ],
   "source": [
    "# 6장 예제\n",
    "def sol(arr1,arr2):\n",
    "    result = []\n",
    "    for i in range(len(arr1)):\n",
    "        for j in range(len(arr2)):\n",
    "            if arr1[i] == arr2[j]:\n",
    "                result.append(arr1[i])\n",
    "                \n",
    "    return result\n",
    "\n",
    "a = [5, 7, 12, 18, 24, 484,1351,54,874,97,96,413,13,156,48,74,651,32,1,5684,6851,32,13,1,6854,53,13,514,564,54,684,86,465,31,321,568,48,4,31, 37, 42, 54, 60, 66, 73, 85, 91, 99]\n",
    "b = [156,8,12,6,47,15,8,8,65,9,1,32,6,498,5,1,65,9,4,13,58,47,89,499,9,494,4,99,49]\n",
    "sol(a,b) "
   ]
  },
  {
   "cell_type": "code",
   "execution_count": null,
   "id": "333abda6",
   "metadata": {},
   "outputs": [],
   "source": []
  },
  {
   "cell_type": "code",
   "execution_count": null,
   "id": "b5f15ea7",
   "metadata": {},
   "outputs": [],
   "source": []
  },
  {
   "cell_type": "code",
   "execution_count": null,
   "id": "d16d413d",
   "metadata": {},
   "outputs": [],
   "source": []
  },
  {
   "cell_type": "code",
   "execution_count": null,
   "id": "6aebf0d2",
   "metadata": {},
   "outputs": [],
   "source": []
  },
  {
   "cell_type": "code",
   "execution_count": null,
   "id": "022251de",
   "metadata": {},
   "outputs": [],
   "source": []
  },
  {
   "cell_type": "code",
   "execution_count": null,
   "id": "2767d3fd",
   "metadata": {},
   "outputs": [],
   "source": []
  },
  {
   "cell_type": "code",
   "execution_count": null,
   "id": "49fe07c6",
   "metadata": {},
   "outputs": [],
   "source": []
  },
  {
   "cell_type": "code",
   "execution_count": null,
   "id": "efaa03b5",
   "metadata": {},
   "outputs": [],
   "source": []
  },
  {
   "cell_type": "code",
   "execution_count": null,
   "id": "b39132eb",
   "metadata": {},
   "outputs": [],
   "source": []
  },
  {
   "cell_type": "code",
   "execution_count": null,
   "id": "275c99be",
   "metadata": {},
   "outputs": [],
   "source": []
  },
  {
   "cell_type": "code",
   "execution_count": null,
   "id": "77f2cd32",
   "metadata": {},
   "outputs": [],
   "source": []
  },
  {
   "cell_type": "code",
   "execution_count": null,
   "id": "157fe9f6",
   "metadata": {},
   "outputs": [],
   "source": []
  },
  {
   "cell_type": "code",
   "execution_count": null,
   "id": "12b46f4f",
   "metadata": {},
   "outputs": [],
   "source": []
  },
  {
   "cell_type": "code",
   "execution_count": null,
   "id": "7949121f",
   "metadata": {},
   "outputs": [],
   "source": []
  },
  {
   "cell_type": "code",
   "execution_count": null,
   "id": "97a80b78",
   "metadata": {},
   "outputs": [],
   "source": []
  },
  {
   "cell_type": "code",
   "execution_count": null,
   "id": "139e6771",
   "metadata": {},
   "outputs": [],
   "source": []
  },
  {
   "cell_type": "code",
   "execution_count": null,
   "id": "4171f659",
   "metadata": {},
   "outputs": [],
   "source": []
  },
  {
   "cell_type": "code",
   "execution_count": null,
   "id": "6dba0836",
   "metadata": {},
   "outputs": [],
   "source": []
  },
  {
   "cell_type": "code",
   "execution_count": null,
   "id": "c22dfca0",
   "metadata": {},
   "outputs": [],
   "source": []
  },
  {
   "cell_type": "code",
   "execution_count": null,
   "id": "8d2c30f3",
   "metadata": {},
   "outputs": [],
   "source": []
  },
  {
   "cell_type": "code",
   "execution_count": null,
   "id": "85223ec8",
   "metadata": {},
   "outputs": [],
   "source": []
  },
  {
   "cell_type": "code",
   "execution_count": null,
   "id": "7dc5763b",
   "metadata": {},
   "outputs": [],
   "source": []
  },
  {
   "cell_type": "code",
   "execution_count": null,
   "id": "93a2c2a5",
   "metadata": {},
   "outputs": [],
   "source": []
  },
  {
   "cell_type": "code",
   "execution_count": null,
   "id": "78fd0751",
   "metadata": {},
   "outputs": [],
   "source": []
  },
  {
   "cell_type": "code",
   "execution_count": null,
   "id": "f3c08c8f",
   "metadata": {},
   "outputs": [],
   "source": []
  },
  {
   "cell_type": "code",
   "execution_count": null,
   "id": "ddd5b4b4",
   "metadata": {},
   "outputs": [],
   "source": []
  },
  {
   "cell_type": "code",
   "execution_count": null,
   "id": "175e2e72",
   "metadata": {},
   "outputs": [],
   "source": []
  },
  {
   "cell_type": "code",
   "execution_count": null,
   "id": "4f8541c8",
   "metadata": {},
   "outputs": [],
   "source": []
  },
  {
   "cell_type": "code",
   "execution_count": null,
   "id": "8ba3f344",
   "metadata": {},
   "outputs": [],
   "source": []
  },
  {
   "cell_type": "code",
   "execution_count": null,
   "id": "a118fc7b",
   "metadata": {},
   "outputs": [],
   "source": []
  },
  {
   "cell_type": "code",
   "execution_count": null,
   "id": "d1929c70",
   "metadata": {},
   "outputs": [],
   "source": []
  },
  {
   "cell_type": "code",
   "execution_count": null,
   "id": "c984aaae",
   "metadata": {},
   "outputs": [],
   "source": []
  },
  {
   "cell_type": "code",
   "execution_count": null,
   "id": "fd46aecb",
   "metadata": {},
   "outputs": [],
   "source": []
  },
  {
   "cell_type": "code",
   "execution_count": null,
   "id": "7ae0195e",
   "metadata": {},
   "outputs": [],
   "source": []
  },
  {
   "cell_type": "code",
   "execution_count": null,
   "id": "33aca20f",
   "metadata": {},
   "outputs": [],
   "source": []
  },
  {
   "cell_type": "code",
   "execution_count": null,
   "id": "340cd6e0",
   "metadata": {},
   "outputs": [],
   "source": []
  },
  {
   "cell_type": "code",
   "execution_count": null,
   "id": "f14875e3",
   "metadata": {},
   "outputs": [],
   "source": []
  },
  {
   "cell_type": "code",
   "execution_count": null,
   "id": "10527d78",
   "metadata": {},
   "outputs": [],
   "source": []
  },
  {
   "cell_type": "code",
   "execution_count": null,
   "id": "c8d5bebe",
   "metadata": {},
   "outputs": [],
   "source": []
  }
 ],
 "metadata": {
  "kernelspec": {
   "display_name": "Python 3",
   "language": "python",
   "name": "python3"
  },
  "language_info": {
   "codemirror_mode": {
    "name": "ipython",
    "version": 3
   },
   "file_extension": ".py",
   "mimetype": "text/x-python",
   "name": "python",
   "nbconvert_exporter": "python",
   "pygments_lexer": "ipython3",
   "version": "3.13.7"
  }
 },
 "nbformat": 4,
 "nbformat_minor": 5
}
