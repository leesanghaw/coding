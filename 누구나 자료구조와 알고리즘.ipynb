{
 "cells": [
  {
   "cell_type": "code",
   "execution_count": 1,
   "id": "e8708c64",
   "metadata": {},
   "outputs": [
    {
     "name": "stdout",
     "output_type": "stream",
     "text": [
      "[6, 10, 2]\n"
     ]
    }
   ],
   "source": [
    "numbers = [6,10,2]\n",
    "print(numbers)"
   ]
  },
  {
   "cell_type": "code",
   "execution_count": 10,
   "id": "a48ebdd5",
   "metadata": {},
   "outputs": [],
   "source": [
    "sorted_numbers = sorted(map(str, numbers), key = lambda x: x*3, reverse = True)"
   ]
  },
  {
   "cell_type": "code",
   "execution_count": 15,
   "id": "0f238bf6",
   "metadata": {},
   "outputs": [
    {
     "data": {
      "text/plain": [
       "'6210'"
      ]
     },
     "execution_count": 15,
     "metadata": {},
     "output_type": "execute_result"
    }
   ],
   "source": [
    "''.join(sorted_numbers)"
   ]
  },
  {
   "cell_type": "code",
   "execution_count": 27,
   "id": "6f0d9993",
   "metadata": {},
   "outputs": [
    {
     "data": {
      "text/plain": [
       "'6210'"
      ]
     },
     "execution_count": 27,
     "metadata": {},
     "output_type": "execute_result"
    }
   ],
   "source": [
    "def solution(a1):\n",
    "    sorted_numbers = sorted(map(str, a1), key = lambda x: x*3, reverse = True)\n",
    "    answer = ''.join(sorted_numbers)\n",
    "\n",
    "    if answer[0] == '0':\n",
    "        answer = '0'\n",
    "    \n",
    "    return answer\n",
    "\n",
    "\n",
    "numbers1 = [6,10,2]\n",
    "solution(numbers1)"
   ]
  },
  {
   "cell_type": "code",
   "execution_count": 44,
   "id": "46a60300",
   "metadata": {},
   "outputs": [
    {
     "name": "stdout",
     "output_type": "stream",
     "text": [
      "30 30\n"
     ]
    }
   ],
   "source": [
    "numbers = [int(input()) for _ in range(5)]\n",
    "print(sum(numbers)//5, sorted(numbers)[2])\n"
   ]
  },
  {
   "cell_type": "code",
   "execution_count": 71,
   "id": "b1f0af29",
   "metadata": {},
   "outputs": [
    {
     "data": {
      "text/plain": [
       "True"
      ]
     },
     "execution_count": 71,
     "metadata": {},
     "output_type": "execute_result"
    }
   ],
   "source": [
    "def solution(s):\n",
    "    a = []\n",
    "    for char in s:\n",
    "        if char == '(':\n",
    "            a.append(char)\n",
    "        elif char == ')':\n",
    "            if len(a) == 0:\n",
    "                return False\n",
    "            else:\n",
    "                a.pop()\n",
    "    return True\n",
    "        \n",
    "q = \"(()(\"\n",
    "solution(q)"
   ]
  },
  {
   "cell_type": "code",
   "execution_count": 74,
   "id": "e53338ea",
   "metadata": {},
   "outputs": [
    {
     "data": {
      "text/plain": [
       "False"
      ]
     },
     "execution_count": 74,
     "metadata": {},
     "output_type": "execute_result"
    }
   ],
   "source": [
    "def solution(s): # \n",
    "    a = []\n",
    "    for char in s:\n",
    "        if char == ')':\n",
    "            return False\n",
    "        elif char == '(':\n",
    "            a.append(char)\n",
    "            if char == ')':\n",
    "                a.pop()\n",
    "    return len(a) == 0\n",
    "        \n",
    "q = \"((()))\"\n",
    "solution(q)"
   ]
  },
  {
   "cell_type": "code",
   "execution_count": null,
   "id": "d15ae910",
   "metadata": {},
   "outputs": [],
   "source": [
    "def solution(s):\n",
    "    a = []\n",
    "    for char in s:\n",
    "        if char == '(':\n",
    "            a.append(char)\n",
    "        elif char == ')':\n",
    "            if len(a) == 0:\n",
    "                return False\n",
    "            else:\n",
    "                a.pop()\n",
    "    return len(a) == 0\n",
    "        \n",
    "q = \"(()(\"\n",
    "solution(q)"
   ]
  },
  {
   "cell_type": "code",
   "execution_count": 2,
   "id": "e803cb8d",
   "metadata": {},
   "outputs": [
    {
     "name": "stdout",
     "output_type": "stream",
     "text": [
      "98\n"
     ]
    }
   ],
   "source": [
    "# 09.27 백준 25305\n",
    "n, k = map(int, input().split())\n",
    "members = sorted(list(map(int, input().split())),reverse = True)\n",
    "\n",
    "print(members[k-1])"
   ]
  },
  {
   "cell_type": "code",
   "execution_count": 6,
   "id": "874e08e0",
   "metadata": {},
   "outputs": [
    {
     "name": "stdout",
     "output_type": "stream",
     "text": [
      "85\n"
     ]
    }
   ],
   "source": [
    "n,  k = map(int, input().split())\n",
    "members = sorted(list(map(int, input().split())),reverse = True)\n",
    "print(members[k-1])"
   ]
  },
  {
   "cell_type": "code",
   "execution_count": null,
   "id": "a09d8e37",
   "metadata": {},
   "outputs": [
    {
     "name": "stdout",
     "output_type": "stream",
     "text": [
      "4321\n"
     ]
    }
   ],
   "source": [
    "# 백준 1427\n",
    "n = input()\n",
    "k = []\n",
    "for i in n:\n",
    "    k.append(i)\n",
    "kk = sorted(k, reverse=True)\n",
    "print(int(''.join(kk)))"
   ]
  },
  {
   "cell_type": "code",
   "execution_count": null,
   "id": "65a79a0f",
   "metadata": {},
   "outputs": [
    {
     "name": "stdout",
     "output_type": "stream",
     "text": [
      "4321\n"
     ]
    }
   ],
   "source": [
    "# 백준 1427\n",
    "n = input()\n",
    "print(''.join(sorted(list(n), reverse= True)))"
   ]
  },
  {
   "cell_type": "code",
   "execution_count": null,
   "id": "784a0ae6",
   "metadata": {},
   "outputs": [
    {
     "name": "stdout",
     "output_type": "stream",
     "text": [
      "4321\n"
     ]
    }
   ],
   "source": [
    "# 백준 1427 / 버블 정렬\n",
    "n = list(input())\n",
    "for i in range(len(n)):\n",
    "    for j in range(len(n)-1):\n",
    "        if n[j] < n[j+1]:\n",
    "            n[j], n[j+1] = n[j+1], n[j]\n",
    "\n",
    "print(int(''.join(n)))           "
   ]
  },
  {
   "cell_type": "code",
   "execution_count": 1,
   "id": "3db5ac25",
   "metadata": {},
   "outputs": [
    {
     "data": {
      "text/plain": [
       "(6, 4)"
      ]
     },
     "execution_count": 1,
     "metadata": {},
     "output_type": "execute_result"
    }
   ],
   "source": [
    "# 이진탐색\n",
    "a = [1,2,3,4,5,6,7,8,9,10]\n",
    "b = 7\n",
    "\n",
    "def solution(a,b):\n",
    "    count = 0\n",
    "    lower_number = 0\n",
    "    upper_number = len(a) - 1\n",
    "\n",
    "    while lower_number <= upper_number:\n",
    "\n",
    "        count += 1\n",
    "\n",
    "        middle_number = (lower_number + upper_number) // 2\n",
    "\n",
    "        if b == a[middle_number]:\n",
    "            return middle_number, count\n",
    "        \n",
    "        elif b < a[middle_number]:\n",
    "            upper_number = middle_number - 1\n",
    "\n",
    "        elif b > a[middle_number]:\n",
    "            lower_number = middle_number + 1\n",
    "\n",
    "    return -1   \n",
    "solution(a,b)"
   ]
  },
  {
   "cell_type": "code",
   "execution_count": null,
   "id": "2109eedd",
   "metadata": {},
   "outputs": [],
   "source": [
    "def is_prime(number):\n",
    " for i in range(2, number):\n",
    "    print(i)\n",
    "    if number % i == 0:\n",
    "        return False\n",
    " return True\n",
    "\n",
    "is_prime(7)"
   ]
  },
  {
   "cell_type": "code",
   "execution_count": 9,
   "id": "31707f35",
   "metadata": {},
   "outputs": [
    {
     "data": {
      "text/plain": [
       "'6번 찾아야 함'"
      ]
     },
     "execution_count": 9,
     "metadata": {},
     "output_type": "execute_result"
    }
   ],
   "source": [
    "def solution2(a,b):\n",
    "\n",
    "    low_number = 0\n",
    "\n",
    "    upper_number = len(a) - 1\n",
    "\n",
    "\n",
    "    while low_number <= upper_number:\n",
    "\n",
    "        middle_number = (low_number + upper_number) // 2\n",
    "\n",
    "        if b == a[middle_number]:\n",
    "            return f'{middle_number}번 찾아야 함'\n",
    "        \n",
    "        elif b < a[middle_number]:\n",
    "            upper_number = middle_number -1\n",
    "\n",
    "        elif b > a[middle_number]:\n",
    "            low_number = middle_number +1 \n",
    "    return -1\n",
    "\n",
    "\n",
    "a = [1,2,3,4,5,6,7,8,9,10]\n",
    "b= 7\n",
    "solution2(a,b)\n"
   ]
  },
  {
   "cell_type": "code",
   "execution_count": null,
   "id": "84887c6b",
   "metadata": {},
   "outputs": [
    {
     "data": {
      "text/plain": [
       "(6, 4)"
      ]
     },
     "execution_count": 4,
     "metadata": {},
     "output_type": "execute_result"
    }
   ],
   "source": [
    "# 이진탐색 / \n",
    "a = [1,2,3,4,5,6,7,8,9,10]\n",
    "b = 7\n",
    "\n",
    "def solution(a,b):\n",
    "    count = 0\n",
    "    lower_number = 0\n",
    "    upper_number = len(a) - 1\n",
    "\n",
    "    while lower_number <= upper_number:\n",
    "\n",
    "        count += 1\n",
    "\n",
    "        middle_number = (lower_number + upper_number) // 2\n",
    "\n",
    "        if b == a[middle_number]:\n",
    "            return middle_number, count\n",
    "        \n",
    "        elif b < a[middle_number]:\n",
    "            upper_number = middle_number - 1\n",
    "\n",
    "        elif b > a[middle_number]:\n",
    "            lower_number = middle_number + 1\n",
    "\n",
    "    return -1   \n",
    "solution(a,b)"
   ]
  },
  {
   "cell_type": "code",
   "execution_count": null,
   "id": "121dffc1",
   "metadata": {},
   "outputs": [
    {
     "data": {
      "text/plain": [
       "10"
      ]
     },
     "execution_count": 15,
     "metadata": {},
     "output_type": "execute_result"
    }
   ],
   "source": [
    "def grains(numbers):\n",
    "    chessnumber = 1\n",
    "    placedgrains = 1\n",
    "    \n",
    "    while placedgrains < numbers:\n",
    "        chessnumber += 1\n",
    "        placedgrains *=2\n",
    "\n",
    "    return chessnumber   \n",
    "\n",
    "#  O(log n)\n",
    "grains(512)  "
   ]
  },
  {
   "cell_type": "code",
   "execution_count": 6,
   "id": "2a96dcca",
   "metadata": {},
   "outputs": [
    {
     "name": "stdout",
     "output_type": "stream",
     "text": [
      "([22, 23, 41, 56, 71, 78, 98, 145], 7, 12)\n"
     ]
    }
   ],
   "source": [
    "# 버블정렬\n",
    "def bubble_sort(list):\n",
    "    unsorted_list_index = len(list)-1\n",
    "    sorted = False # 정렬 상태\n",
    "    count1 = 0 # pass-through 횟수\n",
    "    count2 = 0 # 비교 횟수\n",
    "    while not sorted:\n",
    "        count1 += 1\n",
    "        sorted = True\n",
    "        for i in range(unsorted_list_index):\n",
    "            if list[i] > list[i+1]:\n",
    "                list[i],list[i+1] = list[i+1],list[i]\n",
    "                count2 += 1 \n",
    "                sorted = False\n",
    "        unsorted_list_index -=1\n",
    "    return list, count1, count2\n",
    "\n",
    "print(bubble_sort([78,41,23,56,98,71,22,145]))\n"
   ]
  },
  {
   "cell_type": "code",
   "execution_count": null,
   "id": "3e15d99f",
   "metadata": {},
   "outputs": [],
   "source": [
    "# 선형 해결법: 이차 문제\n",
    "def has_duplicate_value(array):\n",
    "    existing_numbers = {}\n",
    "    for num in array:\n",
    "        if existing_numbers.get(num) == 1:\n",
    "            return True\n",
    "        else:\n",
    "            existing_numbers[num] = 1\n",
    "    return False"
   ]
  },
  {
   "cell_type": "code",
   "execution_count": 5,
   "id": "0cb88d79",
   "metadata": {},
   "outputs": [],
   "source": [
    "# 5장: 선택 정렬\n",
    "\n",
    "def solution(list):\n",
    "    for i in range(len(list)-1):\n",
    "        low_index = i\n",
    "        for j in range(i + 1 , len(list)):\n",
    "            if list[j] < list[low_index]:\n",
    "                low_index = j\n",
    "        if low_index != i:\n",
    "            temp = list[i]\n",
    "            list[i] = list[low_index]\n",
    "            list[low_index] = temp\n",
    "    return list\n"
   ]
  },
  {
   "cell_type": "code",
   "execution_count": 6,
   "id": "6123ec31",
   "metadata": {},
   "outputs": [
    {
     "data": {
      "text/plain": [
       "[1, 2, 4, 5, 7]"
      ]
     },
     "execution_count": 6,
     "metadata": {},
     "output_type": "execute_result"
    }
   ],
   "source": [
    "solution([1,4,2,5,7])"
   ]
  },
  {
   "cell_type": "code",
   "execution_count": null,
   "id": "c87eec0f",
   "metadata": {},
   "outputs": [],
   "source": []
  },
  {
   "cell_type": "code",
   "execution_count": null,
   "id": "fb0690c6",
   "metadata": {},
   "outputs": [],
   "source": []
  }
 ],
 "metadata": {
  "kernelspec": {
   "display_name": "Python 3",
   "language": "python",
   "name": "python3"
  },
  "language_info": {
   "codemirror_mode": {
    "name": "ipython",
    "version": 3
   },
   "file_extension": ".py",
   "mimetype": "text/x-python",
   "name": "python",
   "nbconvert_exporter": "python",
   "pygments_lexer": "ipython3",
   "version": "3.13.7"
  }
 },
 "nbformat": 4,
 "nbformat_minor": 5
}
