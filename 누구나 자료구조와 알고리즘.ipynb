{
 "cells": [
  {
   "cell_type": "code",
   "execution_count": 1,
   "id": "e8708c64",
   "metadata": {},
   "outputs": [
    {
     "name": "stdout",
     "output_type": "stream",
     "text": [
      "[6, 10, 2]\n"
     ]
    }
   ],
   "source": [
    "numbers = [6,10,2]\n",
    "print(numbers)"
   ]
  },
  {
   "cell_type": "code",
   "execution_count": 10,
   "id": "a48ebdd5",
   "metadata": {},
   "outputs": [],
   "source": [
    "sorted_numbers = sorted(map(str, numbers), key = lambda x: x*3, reverse = True)"
   ]
  },
  {
   "cell_type": "code",
   "execution_count": 15,
   "id": "0f238bf6",
   "metadata": {},
   "outputs": [
    {
     "data": {
      "text/plain": [
       "'6210'"
      ]
     },
     "execution_count": 15,
     "metadata": {},
     "output_type": "execute_result"
    }
   ],
   "source": [
    "''.join(sorted_numbers)"
   ]
  },
  {
   "cell_type": "code",
   "execution_count": 27,
   "id": "6f0d9993",
   "metadata": {},
   "outputs": [
    {
     "data": {
      "text/plain": [
       "'6210'"
      ]
     },
     "execution_count": 27,
     "metadata": {},
     "output_type": "execute_result"
    }
   ],
   "source": [
    "def solution(a1):\n",
    "    sorted_numbers = sorted(map(str, a1), key = lambda x: x*3, reverse = True)\n",
    "    answer = ''.join(sorted_numbers)\n",
    "\n",
    "    if answer[0] == '0':\n",
    "        answer = '0'\n",
    "    \n",
    "    return answer\n",
    "\n",
    "\n",
    "numbers1 = [6,10,2]\n",
    "solution(numbers1)"
   ]
  },
  {
   "cell_type": "code",
   "execution_count": 44,
   "id": "46a60300",
   "metadata": {},
   "outputs": [
    {
     "name": "stdout",
     "output_type": "stream",
     "text": [
      "30 30\n"
     ]
    }
   ],
   "source": [
    "numbers = [int(input()) for _ in range(5)]\n",
    "print(sum(numbers)//5, sorted(numbers)[2])\n"
   ]
  },
  {
   "cell_type": "code",
   "execution_count": 71,
   "id": "b1f0af29",
   "metadata": {},
   "outputs": [
    {
     "data": {
      "text/plain": [
       "True"
      ]
     },
     "execution_count": 71,
     "metadata": {},
     "output_type": "execute_result"
    }
   ],
   "source": [
    "def solution(s):\n",
    "    a = []\n",
    "    for char in s:\n",
    "        if char == '(':\n",
    "            a.append(char)\n",
    "        elif char == ')':\n",
    "            if len(a) == 0:\n",
    "                return False\n",
    "            else:\n",
    "                a.pop()\n",
    "    return True\n",
    "        \n",
    "q = \"(()(\"\n",
    "solution(q)"
   ]
  },
  {
   "cell_type": "code",
   "execution_count": 74,
   "id": "e53338ea",
   "metadata": {},
   "outputs": [
    {
     "data": {
      "text/plain": [
       "False"
      ]
     },
     "execution_count": 74,
     "metadata": {},
     "output_type": "execute_result"
    }
   ],
   "source": [
    "def solution(s): # \n",
    "    a = []\n",
    "    for char in s:\n",
    "        if char == ')':\n",
    "            return False\n",
    "        elif char == '(':\n",
    "            a.append(char)\n",
    "            if char == ')':\n",
    "                a.pop()\n",
    "    return len(a) == 0\n",
    "        \n",
    "q = \"((()))\"\n",
    "solution(q)"
   ]
  },
  {
   "cell_type": "code",
   "execution_count": null,
   "id": "d15ae910",
   "metadata": {},
   "outputs": [],
   "source": [
    "def solution(s):\n",
    "    a = []\n",
    "    for char in s:\n",
    "        if char == '(':\n",
    "            a.append(char)\n",
    "        elif char == ')':\n",
    "            if len(a) == 0:\n",
    "                return False\n",
    "            else:\n",
    "                a.pop()\n",
    "    return len(a) == 0\n",
    "        \n",
    "q = \"(()(\"\n",
    "solution(q)"
   ]
  },
  {
   "cell_type": "code",
   "execution_count": 2,
   "id": "e803cb8d",
   "metadata": {},
   "outputs": [
    {
     "name": "stdout",
     "output_type": "stream",
     "text": [
      "98\n"
     ]
    }
   ],
   "source": [
    "# 09.27 백준 25305\n",
    "n, k = map(int, input().split())\n",
    "members = sorted(list(map(int, input().split())),reverse = True)\n",
    "\n",
    "print(members[k-1])"
   ]
  },
  {
   "cell_type": "code",
   "execution_count": 6,
   "id": "874e08e0",
   "metadata": {},
   "outputs": [
    {
     "name": "stdout",
     "output_type": "stream",
     "text": [
      "85\n"
     ]
    }
   ],
   "source": [
    "n,  k = map(int, input().split())\n",
    "members = sorted(list(map(int, input().split())),reverse = True)\n",
    "print(members[k-1])"
   ]
  },
  {
   "cell_type": "code",
   "execution_count": null,
   "id": "a09d8e37",
   "metadata": {},
   "outputs": [
    {
     "name": "stdout",
     "output_type": "stream",
     "text": [
      "4321\n"
     ]
    }
   ],
   "source": [
    "# 백준 1427\n",
    "n = input()\n",
    "k = []\n",
    "for i in n:\n",
    "    k.append(i)\n",
    "kk = sorted(k, reverse=True)\n",
    "print(int(''.join(kk)))"
   ]
  },
  {
   "cell_type": "code",
   "execution_count": null,
   "id": "65a79a0f",
   "metadata": {},
   "outputs": [
    {
     "name": "stdout",
     "output_type": "stream",
     "text": [
      "4321\n"
     ]
    }
   ],
   "source": [
    "# 백준 1427\n",
    "n = input()\n",
    "print(''.join(sorted(list(n), reverse= True)))"
   ]
  },
  {
   "cell_type": "code",
   "execution_count": null,
   "id": "784a0ae6",
   "metadata": {},
   "outputs": [
    {
     "name": "stdout",
     "output_type": "stream",
     "text": [
      "4321\n"
     ]
    }
   ],
   "source": [
    "# 백준 1427 / 버블 정렬\n",
    "n = list(input())\n",
    "for i in range(len(n)):\n",
    "    for j in range(len(n)-1):\n",
    "        if n[j] < n[j+1]:\n",
    "            n[j], n[j+1] = n[j+1], n[j]\n",
    "\n",
    "print(int(''.join(n)))           "
   ]
  },
  {
   "cell_type": "code",
   "execution_count": 1,
   "id": "3db5ac25",
   "metadata": {},
   "outputs": [
    {
     "data": {
      "text/plain": [
       "(6, 4)"
      ]
     },
     "execution_count": 1,
     "metadata": {},
     "output_type": "execute_result"
    }
   ],
   "source": [
    "# 이진탐색\n",
    "a = [1,2,3,4,5,6,7,8,9,10]\n",
    "b = 7\n",
    "\n",
    "def solution(a,b):\n",
    "    count = 0\n",
    "    lower_number = 0\n",
    "    upper_number = len(a) - 1\n",
    "\n",
    "    while lower_number <= upper_number:\n",
    "\n",
    "        count += 1\n",
    "\n",
    "        middle_number = (lower_number + upper_number) // 2\n",
    "\n",
    "        if b == a[middle_number]:\n",
    "            return middle_number, count\n",
    "        \n",
    "        elif b < a[middle_number]:\n",
    "            upper_number = middle_number - 1\n",
    "\n",
    "        elif b > a[middle_number]:\n",
    "            lower_number = middle_number + 1\n",
    "\n",
    "    return -1   \n",
    "solution(a,b)"
   ]
  },
  {
   "cell_type": "code",
   "execution_count": null,
   "id": "2109eedd",
   "metadata": {},
   "outputs": [],
   "source": [
    "def is_prime(number):\n",
    " for i in range(2, number):\n",
    "    print(i)\n",
    "    if number % i == 0:\n",
    "        return False\n",
    " return True\n",
    "\n",
    "is_prime(7)"
   ]
  },
  {
   "cell_type": "code",
   "execution_count": 9,
   "id": "31707f35",
   "metadata": {},
   "outputs": [
    {
     "data": {
      "text/plain": [
       "'6번 찾아야 함'"
      ]
     },
     "execution_count": 9,
     "metadata": {},
     "output_type": "execute_result"
    }
   ],
   "source": [
    "def solution2(a,b):\n",
    "\n",
    "    low_number = 0\n",
    "\n",
    "    upper_number = len(a) - 1\n",
    "\n",
    "\n",
    "    while low_number <= upper_number:\n",
    "\n",
    "        middle_number = (low_number + upper_number) // 2\n",
    "\n",
    "        if b == a[middle_number]:\n",
    "            return f'{middle_number}번 찾아야 함'\n",
    "        \n",
    "        elif b < a[middle_number]:\n",
    "            upper_number = middle_number -1\n",
    "\n",
    "        elif b > a[middle_number]:\n",
    "            low_number = middle_number +1 \n",
    "    return -1\n",
    "\n",
    "\n",
    "a = [1,2,3,4,5,6,7,8,9,10]\n",
    "b= 7\n",
    "solution2(a,b)\n"
   ]
  },
  {
   "cell_type": "code",
   "execution_count": null,
   "id": "84887c6b",
   "metadata": {},
   "outputs": [
    {
     "data": {
      "text/plain": [
       "(6, 4)"
      ]
     },
     "execution_count": 4,
     "metadata": {},
     "output_type": "execute_result"
    }
   ],
   "source": [
    "# 이진탐색 / \n",
    "a = [1,2,3,4,5,6,7,8,9,10]\n",
    "b = 7\n",
    "\n",
    "def solution(a,b):\n",
    "    count = 0\n",
    "    lower_number = 0\n",
    "    upper_number = len(a) - 1\n",
    "\n",
    "    while lower_number <= upper_number:\n",
    "\n",
    "        count += 1\n",
    "\n",
    "        middle_number = (lower_number + upper_number) // 2\n",
    "\n",
    "        if b == a[middle_number]:\n",
    "            return middle_number, count\n",
    "        \n",
    "        elif b < a[middle_number]:\n",
    "            upper_number = middle_number - 1\n",
    "\n",
    "        elif b > a[middle_number]:\n",
    "            lower_number = middle_number + 1\n",
    "\n",
    "    return -1   \n",
    "solution(a,b)"
   ]
  },
  {
   "cell_type": "code",
   "execution_count": null,
   "id": "121dffc1",
   "metadata": {},
   "outputs": [
    {
     "data": {
      "text/plain": [
       "10"
      ]
     },
     "execution_count": 15,
     "metadata": {},
     "output_type": "execute_result"
    }
   ],
   "source": [
    "def grains(numbers):\n",
    "    chessnumber = 1\n",
    "    placedgrains = 1\n",
    "    \n",
    "    while placedgrains < numbers:\n",
    "        chessnumber += 1\n",
    "        placedgrains *=2\n",
    "\n",
    "    return chessnumber   \n",
    "\n",
    "#  O(log n)\n",
    "grains(512)  "
   ]
  },
  {
   "cell_type": "code",
   "execution_count": 6,
   "id": "2a96dcca",
   "metadata": {},
   "outputs": [
    {
     "name": "stdout",
     "output_type": "stream",
     "text": [
      "([22, 23, 41, 56, 71, 78, 98, 145], 7, 12)\n"
     ]
    }
   ],
   "source": [
    "# 버블정렬\n",
    "def bubble_sort(list):\n",
    "    unsorted_list_index = len(list)-1\n",
    "    sorted = False # 정렬 상태\n",
    "    count1 = 0 # pass-through 횟수\n",
    "    count2 = 0 # 비교 횟수\n",
    "    while not sorted:\n",
    "        count1 += 1\n",
    "        sorted = True\n",
    "        for i in range(unsorted_list_index):\n",
    "            if list[i] > list[i+1]:\n",
    "                list[i],list[i+1] = list[i+1],list[i]\n",
    "                count2 += 1 \n",
    "                sorted = False\n",
    "        unsorted_list_index -=1\n",
    "    return list, count1, count2\n",
    "\n",
    "print(bubble_sort([78,41,23,56,98,71,22,145]))\n"
   ]
  },
  {
   "cell_type": "code",
   "execution_count": null,
   "id": "3e15d99f",
   "metadata": {},
   "outputs": [],
   "source": [
    "# 선형 해결법: 이차 문제\n",
    "def has_duplicate_value(array):\n",
    "    existing_numbers = {}\n",
    "    for num in array:\n",
    "        if existing_numbers.get(num) == 1:\n",
    "            return True\n",
    "        else:\n",
    "            existing_numbers[num] = 1\n",
    "    return False"
   ]
  },
  {
   "cell_type": "code",
   "execution_count": 5,
   "id": "0cb88d79",
   "metadata": {},
   "outputs": [],
   "source": [
    "# 5장: 선택 정렬\n",
    "\n",
    "def solution(list):\n",
    "    for i in range(len(list)-1):\n",
    "        low_index = i\n",
    "        for j in range(i + 1 , len(list)):\n",
    "            if list[j] < list[low_index]:\n",
    "                low_index = j\n",
    "        if low_index != i:\n",
    "            temp = list[i]\n",
    "            list[i] = list[low_index]\n",
    "            list[low_index] = temp\n",
    "    return list\n"
   ]
  },
  {
   "cell_type": "code",
   "execution_count": 6,
   "id": "6123ec31",
   "metadata": {},
   "outputs": [
    {
     "data": {
      "text/plain": [
       "[1, 2, 4, 5, 7]"
      ]
     },
     "execution_count": 6,
     "metadata": {},
     "output_type": "execute_result"
    }
   ],
   "source": [
    "solution([1,4,2,5,7])"
   ]
  },
  {
   "cell_type": "code",
   "execution_count": 8,
   "id": "c87eec0f",
   "metadata": {},
   "outputs": [],
   "source": [
    "# 선택 정렬\n",
    "def solution1(list):\n",
    "    for i in range(len(list)-1):\n",
    "        low_index = i\n",
    "        for j in range( i + 1, len(list)):\n",
    "            if list[j] < list[low_index]:\n",
    "                low_index = j\n",
    "        if low_index != i:\n",
    "            temp = list[i]\n",
    "            list[i] = list[low_index]\n",
    "            list[low_index] = temp\n",
    "\n",
    "    return list                    "
   ]
  },
  {
   "cell_type": "code",
   "execution_count": 9,
   "id": "fb0690c6",
   "metadata": {},
   "outputs": [
    {
     "data": {
      "text/plain": [
       "[2, 4, 4, 5, 7, 8]"
      ]
     },
     "execution_count": 9,
     "metadata": {},
     "output_type": "execute_result"
    }
   ],
   "source": [
    "solution1([4,2,4,5,8,7])"
   ]
  },
  {
   "cell_type": "code",
   "execution_count": null,
   "id": "600e39b3",
   "metadata": {},
   "outputs": [
    {
     "data": {
      "text/plain": [
       "1"
      ]
     },
     "execution_count": 66,
     "metadata": {},
     "output_type": "execute_result"
    }
   ],
   "source": [
    "# 프로그래머스: https://school.programmers.co.kr/learn/courses/30/lessons/12973 : 25/10/10\n",
    "\n",
    "def solution(s):\n",
    "    new_list = []\n",
    "    for i in s:\n",
    "        if len(new_list) > 0 and new_list[-1] == i:\n",
    "            new_list.pop()\n",
    "        else:\n",
    "            new_list.append(i)\n",
    "    if not new_list:\n",
    "        return 1\n",
    "    else:\n",
    "        return 0\n",
    "    \n",
    "a = 'baabaa'   \n",
    "solution(a)"
   ]
  },
  {
   "cell_type": "code",
   "execution_count": null,
   "id": "1fcacc5c",
   "metadata": {},
   "outputs": [
    {
     "data": {
      "text/plain": [
       "6765"
      ]
     },
     "execution_count": 75,
     "metadata": {},
     "output_type": "execute_result"
    }
   ],
   "source": [
    "# 프로그래머스: 피보나치 수열 - 재귀 (빅오 제곱)\n",
    "def solution(n):\n",
    "    if n <= 1:\n",
    "        return n\n",
    "    else:\n",
    "        return solution(n-1) + solution(n-2)\n",
    "    \n",
    "\n",
    "solution(20)"
   ]
  },
  {
   "cell_type": "code",
   "execution_count": null,
   "id": "a947592c",
   "metadata": {},
   "outputs": [
    {
     "data": {
      "text/plain": [
       "6765"
      ]
     },
     "execution_count": 80,
     "metadata": {},
     "output_type": "execute_result"
    }
   ],
   "source": [
    "# 프로그래머스: https://school.programmers.co.kr/learn/courses/30/lessons/12945 | 피보나치 수열 - 반복문 (시간복잡도 유리) 빅오 n\n",
    "def solution(n):\n",
    "    a,b  = 0,1\n",
    "    mod = 1234567\n",
    "\n",
    "    for _ in range(2,n+1):\n",
    "        a,b = b, (a+b) % mod\n",
    "    return b \n",
    "    \n",
    "\n",
    "solution(20)"
   ]
  },
  {
   "cell_type": "code",
   "execution_count": null,
   "id": "3f96f75e",
   "metadata": {},
   "outputs": [
    {
     "data": {
      "text/plain": [
       "4"
      ]
     },
     "execution_count": 112,
     "metadata": {},
     "output_type": "execute_result"
    }
   ],
   "source": [
    "# 프로그래머스:  https://school.programmers.co.kr/learn/courses/30/lessons/42885 | 시간복잡도 빅오 제곱\n",
    "# 리스트 직접 삭제: 구현 단순, 느림\n",
    "# 아이디어\n",
    "# 1. 가장 무거운 사람부터 태운다.\n",
    "# 2. 무거운 사람과 가벼운 사람이 같이 탈 수 있는 지 확인한다.\n",
    "# 3. 가능하면 같이, 안되면 무거운 사람만 태운다.\n",
    "# 4. 보트 개수는 그때그때 +1\n",
    "# 5. 방금 태운 사람을 명단에서 제거한다.\n",
    "# 6. 남는 사람이 없을 때까지 반복한다.\n",
    "\n",
    "p = [70,80,60,50]\n",
    "limit = 100\n",
    "\n",
    "def solution(p,limit):\n",
    "    p.sort()\n",
    "    count = 0\n",
    "\n",
    "    while len(p) > 0:\n",
    "        max_p = p[-1]\n",
    "        low_p = p[0]\n",
    "        if len(p) == 1:\n",
    "            p.pop()\n",
    "            count += 1\n",
    "        else:\n",
    "            if max_p + low_p <= limit:\n",
    "                del p[-1]; del p[0]\n",
    "                count += 1\n",
    "            else:\n",
    "                del p[-1]\n",
    "                count += 1\n",
    "    return count\n",
    "\n",
    "solution(p,limit)"
   ]
  },
  {
   "cell_type": "code",
   "execution_count": null,
   "id": "f832d4db",
   "metadata": {},
   "outputs": [
    {
     "data": {
      "text/plain": [
       "4"
      ]
     },
     "execution_count": 109,
     "metadata": {},
     "output_type": "execute_result"
    }
   ],
   "source": [
    "# 프로그래머스:  https://school.programmers.co.kr/learn/courses/30/lessons/42885 | 시간복잡도 빅오 n log n\n",
    "# deque 사용\n",
    "p = [70,80,60,50]\n",
    "limit = 100\n",
    "\n",
    "from collections import deque\n",
    "\n",
    "def solution(p,limit):\n",
    "    p.sort()\n",
    "    p = deque(p)\n",
    "    count = 0\n",
    "\n",
    "    while len(p) > 0:\n",
    "        max_p = p[-1]\n",
    "        low_p = p[0]\n",
    "        if len(p) == 1:\n",
    "            p.pop()\n",
    "            count += 1\n",
    "        else:\n",
    "            if max_p + low_p <= limit:\n",
    "                p.popleft()\n",
    "                p.pop()\n",
    "                count += 1\n",
    "            else:\n",
    "                p.pop()\n",
    "                count += 1\n",
    "    return count \n",
    "\n",
    "\n",
    "solution(p,limit)"
   ]
  },
  {
   "cell_type": "code",
   "execution_count": 111,
   "id": "6d8a4d54",
   "metadata": {},
   "outputs": [
    {
     "data": {
      "text/plain": [
       "4"
      ]
     },
     "execution_count": 111,
     "metadata": {},
     "output_type": "execute_result"
    }
   ],
   "source": [
    "# 프로그래머스:  https://school.programmers.co.kr/learn/courses/30/lessons/42885 | 시간복잡도 빅오 n log n\n",
    "# 투 포인터 사용\n",
    "\n",
    "p = [70,80,60,50]\n",
    "limit = 100\n",
    "\n",
    "\n",
    "def solution(p,limit):\n",
    "    p.sort()\n",
    "    i, j = 0 , len(p) - 1\n",
    "    count = 0\n",
    "    while i <= j:\n",
    "        if p[i] + p[j] < limit:\n",
    "            i += 1; j -= 1\n",
    "            count += 1       \n",
    "        else:\n",
    "            j -= 1\n",
    "            count += 1\n",
    "    return count\n",
    "\n",
    "\n",
    "\n",
    "solution(p,limit)"
   ]
  },
  {
   "cell_type": "code",
   "execution_count": null,
   "id": "3a4d4ed1",
   "metadata": {},
   "outputs": [],
   "source": [
    "# 프로그래머스\n",
    "from collections import Counter\n",
    "\n",
    "def solution(k, tangerine):\n",
    "    counts = sorted(Counter(tangerine).values(), reverse=True)\n",
    "    picked = kinds = 0\n",
    "    for c in counts:\n",
    "        picked += c\n",
    "        kinds += 1\n",
    "        if picked >= k:\n",
    "            return kinds"
   ]
  },
  {
   "cell_type": "code",
   "execution_count": 150,
   "id": "ceac77c4",
   "metadata": {},
   "outputs": [
    {
     "data": {
      "text/plain": [
       "3"
      ]
     },
     "execution_count": 150,
     "metadata": {},
     "output_type": "execute_result"
    }
   ],
   "source": [
    "# 프로그래머스\n",
    "def solution(k,tan):\n",
    "    picked = 0\n",
    "    kinds = 0\n",
    "    freq = {}\n",
    "    for x in tan:\n",
    "        if x in freq:\n",
    "            freq[x] += 1\n",
    "        else:\n",
    "            freq[x] = 1\n",
    "    \n",
    "    counts = sorted(freq.values(), reverse = True)\n",
    "\n",
    "    for i in counts:\n",
    "        picked += i\n",
    "        kinds += 1\n",
    "        if picked >= k:\n",
    "            return kinds\n",
    "        \n",
    "\n",
    "solution(6,[1, 3, 2, 5, 4, 5, 2, 3])\n"
   ]
  },
  {
   "cell_type": "code",
   "execution_count": null,
   "id": "b603afc0",
   "metadata": {},
   "outputs": [],
   "source": []
  }
 ],
 "metadata": {
  "kernelspec": {
   "display_name": "Python 3",
   "language": "python",
   "name": "python3"
  },
  "language_info": {
   "codemirror_mode": {
    "name": "ipython",
    "version": 3
   },
   "file_extension": ".py",
   "mimetype": "text/x-python",
   "name": "python",
   "nbconvert_exporter": "python",
   "pygments_lexer": "ipython3",
   "version": "3.13.7"
  }
 },
 "nbformat": 4,
 "nbformat_minor": 5
}
