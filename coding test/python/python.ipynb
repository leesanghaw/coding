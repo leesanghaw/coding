{
 "cells": [
  {
   "cell_type": "code",
   "execution_count": 3,
   "id": "41ba9774",
   "metadata": {},
   "outputs": [
    {
     "name": "stdout",
     "output_type": "stream",
     "text": [
      "12\n"
     ]
    }
   ],
   "source": [
    "def solution(a,b):\n",
    "    sum = 0\n",
    "    for i in range(len(a)):\n",
    "        sum += min(a) * min(b)\n",
    "    return sum\n",
    "\n",
    "print(solution([1,4,2],[5,4,4]))"
   ]
  },
  {
   "cell_type": "code",
   "execution_count": 11,
   "id": "e537d89f",
   "metadata": {},
   "outputs": [
    {
     "data": {
      "text/plain": [
       "31"
      ]
     },
     "execution_count": 11,
     "metadata": {},
     "output_type": "execute_result"
    }
   ],
   "source": [
    "def solution(a,b):\n",
    "    a.sort()\n",
    "    b.sort(reverse = True)\n",
    "    sum = 0\n",
    "    for i in range(len(a)):\n",
    "        sum += a[i] * b[i]\n",
    "    return sum\n",
    "\n",
    "solution([3,4,5],[6,1,2])"
   ]
  },
  {
   "cell_type": "code",
   "execution_count": 8,
   "id": "de5af09d",
   "metadata": {},
   "outputs": [
    {
     "data": {
      "text/plain": [
       "23"
      ]
     },
     "execution_count": 8,
     "metadata": {},
     "output_type": "execute_result"
    }
   ],
   "source": [
    "# https://school.programmers.co.kr/learn/courses/30/lessons/12911\n",
    "\n",
    "def sol(n):\n",
    "    number = n + 1\n",
    "    while n < number: \n",
    "        count_1 = bin(n).count('1')\n",
    "        count_number = bin(number).count('1')\n",
    "        if count_1 != count_number:\n",
    "            number += 1\n",
    "        else: \n",
    "            return number\n",
    "\n",
    "sol(15)"
   ]
  },
  {
   "cell_type": "code",
   "execution_count": null,
   "id": "e9c22f33",
   "metadata": {},
   "outputs": [],
   "source": [
    "# https://school.programmers.co.kr/learn/courses/30/lessons/12981\n",
    "# 가장 먼저 탈락하는 사람의 번호와 그 사람의 몇번째 차례에서 탈락하는지 출력"
   ]
  },
  {
   "cell_type": "code",
   "execution_count": 70,
   "id": "360aadaa",
   "metadata": {},
   "outputs": [
    {
     "name": "stdout",
     "output_type": "stream",
     "text": [
      "[['tank', 'qqick', 'know'], ['wheel', 'land', 'dream'], ['mother', 'robot', 'tank']]\n"
     ]
    }
   ],
   "source": [
    "# n 만큼, 차례를 나타내기 : 조건 1\n",
    "words = [\"tank\", \"qqick\", \"know\", \"wheel\", \"land\", \"dream\", \"mother\", \"robot\", \"tank\"]\n",
    "n = 3 \n",
    "\n",
    "result = [words[i * n:(i + 1) * n] for i in range((len(words) + n - 1) // n )] \n",
    "\n",
    "\n",
    "print(result)"
   ]
  },
  {
   "cell_type": "code",
   "execution_count": 135,
   "id": "e4987d94",
   "metadata": {},
   "outputs": [
    {
     "name": "stdout",
     "output_type": "stream",
     "text": [
      "1 2\n"
     ]
    }
   ],
   "source": [
    "# 단어의 마지막 단어와 그 다음 단어의 첫번째 단어가 같은지: 조건 2\n",
    "\n",
    "words = [\"tank\", \"qqick\", \"know\", \"wheel\", \"land\", \"dream\", \"mother\", \"robot\", \"tank\"]\n",
    "for i in range(len(words)-1):\n",
    "    if words[i][-1] == words[i+1][0]:\n",
    "        continue\n",
    "    else:\n",
    "        print( words.index(words[i+1]), words.index(words[i+1]) + 1 )\n",
    "\n"
   ]
  },
  {
   "cell_type": "code",
   "execution_count": null,
   "id": "ac948255",
   "metadata": {},
   "outputs": [
    {
     "name": "stdout",
     "output_type": "stream",
     "text": [
      "['tank']\n",
      "['tank'] {'mother', 'dream', 'tank', 'robot', 'kick', 'land', 'know', 'wheel'}\n"
     ]
    },
    {
     "data": {
      "text/plain": [
       "3"
      ]
     },
     "execution_count": 105,
     "metadata": {},
     "output_type": "execute_result"
    }
   ],
   "source": [
    "# 같은 단어가 나왔는지 여부 확인: 조건 3\n",
    "import math\n",
    "words = [\"tank\", \"kick\", \"know\", \"wheel\", \"land\", \"dream\", \"mother\", \"robot\", \"tank\"]\n",
    "\n",
    "\n",
    "seen = set()\n",
    "result = []\n",
    "for i in words:\n",
    "    if i in seen:\n",
    "        result.append(i)\n",
    "    else:\n",
    "        seen.add(i)\n",
    "print(result, seen)\n",
    "\n",
    "\n",
    "# 차례 구하기\n",
    "math.ceil([x + 1 for x in filter(lambda x: words[x] == result[0], range(len(words)))][-1] / n)"
   ]
  },
  {
   "cell_type": "code",
   "execution_count": 164,
   "id": "310a28b9",
   "metadata": {},
   "outputs": [
    {
     "name": "stdout",
     "output_type": "stream",
     "text": [
      "[3, 3]\n"
     ]
    }
   ],
   "source": [
    "import math\n",
    "\n",
    "words = [\"tank\", \"kick\", \"know\", \"wheel\", \"land\", \"dream\", \"mother\", \"robot\", \"tank\"]\n",
    "n = 3 \n",
    "\n",
    "seq_result = [words[i * n:(i + 1) * n] for i in range((len(words) + n - 1) // n )] \n",
    "\n",
    "for i in range(len(words)-1):\n",
    "    \n",
    "    if words[i][-1] != words[i+1][0]:\n",
    "        print( [words.index(words[i+1]), words.index(words[i+1]) + 1] )\n",
    "        break\n",
    "\n",
    "    else:\n",
    "        seen = set()\n",
    "        result = []\n",
    "        for i in words:\n",
    "            if i in seen:\n",
    "                result.append(i)\n",
    "            else:\n",
    "                seen.add(i)\n",
    "\n",
    "        # 차례 구하기 결과값 차례에 끝말잇기가 종료 된다는 뜻\n",
    "        seq = math.ceil([x + 1 for x in filter(lambda x: words[x] == result[0], range(len(words)))][-1] / n)\n",
    "\n",
    "        # 틀린 사람\n",
    "        no_person = seq_result[seq - 1].index(result[0]) + 1\n",
    "\n",
    "        print([seq, no_person])\n",
    "        break\n",
    "\n"
   ]
  },
  {
   "cell_type": "code",
   "execution_count": 163,
   "id": "8ed6e763",
   "metadata": {},
   "outputs": [],
   "source": [
    "def solution(n,words):\n",
    "    seen = set([words[0]]) # 처음 시작하는 문장\n",
    "    for i in range(1, len(words)):\n",
    "        prev = words[i-1] # 이전 값\n",
    "        curv = words[i] # 현재 값\n",
    "\n",
    "        # 실패 조건: 연결 실패, 중복 사용, 한 글자\n",
    "        if prev[-1] != curv[0] or curv in seen or len(curv) == 1:\n",
    "            person = i % n + 1\n",
    "            turn = i // n + 1\n",
    "            return [person, turn]\n",
    "        seen.add(curv) # 사용했다는 걸 표시 \n",
    "    # 이래도 안 나왔다면 옳은 끝말잇기 이므로\n",
    "    return [0,0]"
   ]
  },
  {
   "cell_type": "code",
   "execution_count": null,
   "id": "70ef6b26",
   "metadata": {},
   "outputs": [],
   "source": []
  }
 ],
 "metadata": {
  "kernelspec": {
   "display_name": "Python 3",
   "language": "python",
   "name": "python3"
  },
  "language_info": {
   "codemirror_mode": {
    "name": "ipython",
    "version": 3
   },
   "file_extension": ".py",
   "mimetype": "text/x-python",
   "name": "python",
   "nbconvert_exporter": "python",
   "pygments_lexer": "ipython3",
   "version": "3.13.7"
  }
 },
 "nbformat": 4,
 "nbformat_minor": 5
}
