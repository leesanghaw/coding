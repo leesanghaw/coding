{
 "cells": [
  {
   "cell_type": "code",
   "execution_count": 3,
   "id": "41ba9774",
   "metadata": {},
   "outputs": [
    {
     "name": "stdout",
     "output_type": "stream",
     "text": [
      "12\n"
     ]
    }
   ],
   "source": [
    "def solution(a,b):\n",
    "    sum = 0\n",
    "    for i in range(len(a)):\n",
    "        sum += min(a) * min(b)\n",
    "    return sum\n",
    "\n",
    "print(solution([1,4,2],[5,4,4]))"
   ]
  },
  {
   "cell_type": "code",
   "execution_count": 11,
   "id": "e537d89f",
   "metadata": {},
   "outputs": [
    {
     "data": {
      "text/plain": [
       "31"
      ]
     },
     "execution_count": 11,
     "metadata": {},
     "output_type": "execute_result"
    }
   ],
   "source": [
    "def solution(a,b):\n",
    "    a.sort()\n",
    "    b.sort(reverse = True)\n",
    "    sum = 0\n",
    "    for i in range(len(a)):\n",
    "        sum += a[i] * b[i]\n",
    "    return sum\n",
    "\n",
    "solution([3,4,5],[6,1,2])"
   ]
  },
  {
   "cell_type": "code",
   "execution_count": null,
   "id": "de5af09d",
   "metadata": {},
   "outputs": [],
   "source": []
  }
 ],
 "metadata": {
  "kernelspec": {
   "display_name": "Python 3",
   "language": "python",
   "name": "python3"
  },
  "language_info": {
   "codemirror_mode": {
    "name": "ipython",
    "version": 3
   },
   "file_extension": ".py",
   "mimetype": "text/x-python",
   "name": "python",
   "nbconvert_exporter": "python",
   "pygments_lexer": "ipython3",
   "version": "3.13.7"
  }
 },
 "nbformat": 4,
 "nbformat_minor": 5
}
